{
 "cells": [
  {
   "cell_type": "code",
   "execution_count": 2,
   "metadata": {},
   "outputs": [],
   "source": [
    "import pandas as pd  \n",
    "import numpy as np  \n",
    "from geopy.distance import distance\n",
    "import copy\n",
    "from geopy.distance import geodesic\n",
    "import matplotlib.pyplot as plt"
   ]
  },
  {
   "cell_type": "code",
   "execution_count": 2,
   "metadata": {},
   "outputs": [
    {
     "name": "stdout",
     "output_type": "stream",
     "text": [
      "Link to data source:  https://files.data.gouv.fr/arcep_donnees/mobile/sites/2022_T3/2022_T3_sites_Metropole.csv\n"
     ]
    }
   ],
   "source": [
    "DATA_SOURCE = 'https://files.data.gouv.fr/arcep_donnees/mobile/sites/2022_T3/2022_T3_sites_Metropole.csv'\n",
    "print('Link to data source: ', DATA_SOURCE)"
   ]
  },
  {
   "cell_type": "code",
   "execution_count": 3,
   "metadata": {},
   "outputs": [],
   "source": [
    "bs_db = pd.read_csv(\"city_datasets/2022_T3_sites_Metropole.csv\")"
   ]
  },
  {
   "cell_type": "code",
   "execution_count": 4,
   "metadata": {},
   "outputs": [
    {
     "data": {
      "text/html": [
       "<div>\n",
       "<style scoped>\n",
       "    .dataframe tbody tr th:only-of-type {\n",
       "        vertical-align: middle;\n",
       "    }\n",
       "\n",
       "    .dataframe tbody tr th {\n",
       "        vertical-align: top;\n",
       "    }\n",
       "\n",
       "    .dataframe thead th {\n",
       "        text-align: right;\n",
       "    }\n",
       "</style>\n",
       "<table border=\"1\" class=\"dataframe\">\n",
       "  <thead>\n",
       "    <tr style=\"text-align: right;\">\n",
       "      <th></th>\n",
       "      <th>code_op</th>\n",
       "      <th>nom_op</th>\n",
       "      <th>num_site</th>\n",
       "      <th>id_site_partage</th>\n",
       "      <th>id_station_anfr</th>\n",
       "      <th>x</th>\n",
       "      <th>y</th>\n",
       "      <th>latitude</th>\n",
       "      <th>longitude</th>\n",
       "      <th>nom_reg</th>\n",
       "      <th>...</th>\n",
       "      <th>site_ZB</th>\n",
       "      <th>site_DCC</th>\n",
       "      <th>site_strategique</th>\n",
       "      <th>site_capa_240mbps</th>\n",
       "      <th>date_ouverturecommerciale_5g</th>\n",
       "      <th>site_5g_700_m_hz</th>\n",
       "      <th>site_5g_800_m_hz</th>\n",
       "      <th>site_5g_1800_m_hz</th>\n",
       "      <th>site_5g_2100_m_hz</th>\n",
       "      <th>site_5g_3500_m_hz</th>\n",
       "    </tr>\n",
       "  </thead>\n",
       "  <tbody>\n",
       "    <tr>\n",
       "      <th>0</th>\n",
       "      <td>20801</td>\n",
       "      <td>Orange</td>\n",
       "      <td>00000001A1</td>\n",
       "      <td>NaN</td>\n",
       "      <td>0802290015</td>\n",
       "      <td>687035.0</td>\n",
       "      <td>6985761.0</td>\n",
       "      <td>49.97028</td>\n",
       "      <td>2.81944</td>\n",
       "      <td>Hauts-de-France</td>\n",
       "      <td>...</td>\n",
       "      <td>0</td>\n",
       "      <td>0</td>\n",
       "      <td>0</td>\n",
       "      <td>0</td>\n",
       "      <td>NaN</td>\n",
       "      <td>0</td>\n",
       "      <td>0</td>\n",
       "      <td>0</td>\n",
       "      <td>0</td>\n",
       "      <td>0</td>\n",
       "    </tr>\n",
       "    <tr>\n",
       "      <th>1</th>\n",
       "      <td>20801</td>\n",
       "      <td>Orange</td>\n",
       "      <td>00000001B1</td>\n",
       "      <td>NaN</td>\n",
       "      <td>0642290151</td>\n",
       "      <td>422853.0</td>\n",
       "      <td>6249263.0</td>\n",
       "      <td>43.28861</td>\n",
       "      <td>-0.41389</td>\n",
       "      <td>Nouvelle-Aquitaine</td>\n",
       "      <td>...</td>\n",
       "      <td>0</td>\n",
       "      <td>0</td>\n",
       "      <td>0</td>\n",
       "      <td>1</td>\n",
       "      <td>2020-12-14</td>\n",
       "      <td>0</td>\n",
       "      <td>0</td>\n",
       "      <td>0</td>\n",
       "      <td>1</td>\n",
       "      <td>0</td>\n",
       "    </tr>\n",
       "    <tr>\n",
       "      <th>2</th>\n",
       "      <td>20801</td>\n",
       "      <td>Orange</td>\n",
       "      <td>00000001B2</td>\n",
       "      <td>NaN</td>\n",
       "      <td>0332290026</td>\n",
       "      <td>416932.0</td>\n",
       "      <td>6422196.0</td>\n",
       "      <td>44.84112</td>\n",
       "      <td>-0.58333</td>\n",
       "      <td>Nouvelle-Aquitaine</td>\n",
       "      <td>...</td>\n",
       "      <td>0</td>\n",
       "      <td>0</td>\n",
       "      <td>0</td>\n",
       "      <td>1</td>\n",
       "      <td>2021-02-22</td>\n",
       "      <td>0</td>\n",
       "      <td>0</td>\n",
       "      <td>0</td>\n",
       "      <td>0</td>\n",
       "      <td>1</td>\n",
       "    </tr>\n",
       "    <tr>\n",
       "      <th>3</th>\n",
       "      <td>20801</td>\n",
       "      <td>Orange</td>\n",
       "      <td>00000001B3</td>\n",
       "      <td>NaN</td>\n",
       "      <td>0472290005</td>\n",
       "      <td>511106.0</td>\n",
       "      <td>6349234.0</td>\n",
       "      <td>44.21666</td>\n",
       "      <td>0.63556</td>\n",
       "      <td>Nouvelle-Aquitaine</td>\n",
       "      <td>...</td>\n",
       "      <td>0</td>\n",
       "      <td>0</td>\n",
       "      <td>0</td>\n",
       "      <td>1</td>\n",
       "      <td>NaN</td>\n",
       "      <td>0</td>\n",
       "      <td>0</td>\n",
       "      <td>0</td>\n",
       "      <td>0</td>\n",
       "      <td>0</td>\n",
       "    </tr>\n",
       "    <tr>\n",
       "      <th>4</th>\n",
       "      <td>20801</td>\n",
       "      <td>Orange</td>\n",
       "      <td>00000001C1</td>\n",
       "      <td>NaN</td>\n",
       "      <td>0512290147</td>\n",
       "      <td>836824.0</td>\n",
       "      <td>6889450.0</td>\n",
       "      <td>49.09028</td>\n",
       "      <td>4.87333</td>\n",
       "      <td>Grand Est</td>\n",
       "      <td>...</td>\n",
       "      <td>0</td>\n",
       "      <td>0</td>\n",
       "      <td>0</td>\n",
       "      <td>1</td>\n",
       "      <td>NaN</td>\n",
       "      <td>0</td>\n",
       "      <td>0</td>\n",
       "      <td>0</td>\n",
       "      <td>0</td>\n",
       "      <td>0</td>\n",
       "    </tr>\n",
       "  </tbody>\n",
       "</table>\n",
       "<p>5 rows × 29 columns</p>\n",
       "</div>"
      ],
      "text/plain": [
       "   code_op  nom_op    num_site id_site_partage id_station_anfr         x  \\\n",
       "0    20801  Orange  00000001A1             NaN      0802290015  687035.0   \n",
       "1    20801  Orange  00000001B1             NaN      0642290151  422853.0   \n",
       "2    20801  Orange  00000001B2             NaN      0332290026  416932.0   \n",
       "3    20801  Orange  00000001B3             NaN      0472290005  511106.0   \n",
       "4    20801  Orange  00000001C1             NaN      0512290147  836824.0   \n",
       "\n",
       "           y  latitude  longitude             nom_reg  ... site_ZB site_DCC  \\\n",
       "0  6985761.0  49.97028    2.81944     Hauts-de-France  ...       0        0   \n",
       "1  6249263.0  43.28861   -0.41389  Nouvelle-Aquitaine  ...       0        0   \n",
       "2  6422196.0  44.84112   -0.58333  Nouvelle-Aquitaine  ...       0        0   \n",
       "3  6349234.0  44.21666    0.63556  Nouvelle-Aquitaine  ...       0        0   \n",
       "4  6889450.0  49.09028    4.87333           Grand Est  ...       0        0   \n",
       "\n",
       "  site_strategique site_capa_240mbps  date_ouverturecommerciale_5g  \\\n",
       "0                0                 0                           NaN   \n",
       "1                0                 1                    2020-12-14   \n",
       "2                0                 1                    2021-02-22   \n",
       "3                0                 1                           NaN   \n",
       "4                0                 1                           NaN   \n",
       "\n",
       "   site_5g_700_m_hz  site_5g_800_m_hz  site_5g_1800_m_hz  site_5g_2100_m_hz  \\\n",
       "0                 0                 0                  0                  0   \n",
       "1                 0                 0                  0                  1   \n",
       "2                 0                 0                  0                  0   \n",
       "3                 0                 0                  0                  0   \n",
       "4                 0                 0                  0                  0   \n",
       "\n",
       "   site_5g_3500_m_hz  \n",
       "0                  0  \n",
       "1                  0  \n",
       "2                  1  \n",
       "3                  0  \n",
       "4                  0  \n",
       "\n",
       "[5 rows x 29 columns]"
      ]
     },
     "execution_count": 4,
     "metadata": {},
     "output_type": "execute_result"
    }
   ],
   "source": [
    "bs_db.head()"
   ]
  },
  {
   "cell_type": "code",
   "execution_count": 5,
   "metadata": {},
   "outputs": [
    {
     "name": "stdout",
     "output_type": "stream",
     "text": [
      "DB size:  100212\n"
     ]
    }
   ],
   "source": [
    "print(\"DB size: \", len(bs_db))"
   ]
  },
  {
   "cell_type": "code",
   "execution_count": 6,
   "metadata": {},
   "outputs": [
    {
     "data": {
      "text/plain": [
       "Index(['code_op', 'nom_op', 'num_site', 'id_site_partage', 'id_station_anfr',\n",
       "       'x', 'y', 'latitude', 'longitude', 'nom_reg', 'nom_dep', 'insee_dep',\n",
       "       'nom_com', 'insee_com', 'site_2g', 'site_3g', 'site_4g', 'site_5g',\n",
       "       'mes_4g_trim', 'site_ZB', 'site_DCC', 'site_strategique',\n",
       "       'site_capa_240mbps', 'date_ouverturecommerciale_5g', 'site_5g_700_m_hz',\n",
       "       'site_5g_800_m_hz', 'site_5g_1800_m_hz', 'site_5g_2100_m_hz',\n",
       "       'site_5g_3500_m_hz'],\n",
       "      dtype='object')"
      ]
     },
     "execution_count": 6,
     "metadata": {},
     "output_type": "execute_result"
    }
   ],
   "source": [
    "bs_db.columns"
   ]
  },
  {
   "cell_type": "code",
   "execution_count": 7,
   "metadata": {},
   "outputs": [],
   "source": [
    "OPERATOR_NAME = 'Orange'\n",
    "AREA_OF_INTEREST = 'Paris'"
   ]
  },
  {
   "cell_type": "code",
   "execution_count": 8,
   "metadata": {},
   "outputs": [],
   "source": [
    "bs_db_filtered = bs_db[(bs_db['nom_op'] == OPERATOR_NAME) & (bs_db['nom_dep'] == AREA_OF_INTEREST)]"
   ]
  },
  {
   "cell_type": "code",
   "execution_count": 9,
   "metadata": {},
   "outputs": [
    {
     "data": {
      "text/html": [
       "<div>\n",
       "<style scoped>\n",
       "    .dataframe tbody tr th:only-of-type {\n",
       "        vertical-align: middle;\n",
       "    }\n",
       "\n",
       "    .dataframe tbody tr th {\n",
       "        vertical-align: top;\n",
       "    }\n",
       "\n",
       "    .dataframe thead th {\n",
       "        text-align: right;\n",
       "    }\n",
       "</style>\n",
       "<table border=\"1\" class=\"dataframe\">\n",
       "  <thead>\n",
       "    <tr style=\"text-align: right;\">\n",
       "      <th></th>\n",
       "      <th>code_op</th>\n",
       "      <th>nom_op</th>\n",
       "      <th>num_site</th>\n",
       "      <th>id_site_partage</th>\n",
       "      <th>id_station_anfr</th>\n",
       "      <th>x</th>\n",
       "      <th>y</th>\n",
       "      <th>latitude</th>\n",
       "      <th>longitude</th>\n",
       "      <th>nom_reg</th>\n",
       "      <th>...</th>\n",
       "      <th>site_ZB</th>\n",
       "      <th>site_DCC</th>\n",
       "      <th>site_strategique</th>\n",
       "      <th>site_capa_240mbps</th>\n",
       "      <th>date_ouverturecommerciale_5g</th>\n",
       "      <th>site_5g_700_m_hz</th>\n",
       "      <th>site_5g_800_m_hz</th>\n",
       "      <th>site_5g_1800_m_hz</th>\n",
       "      <th>site_5g_2100_m_hz</th>\n",
       "      <th>site_5g_3500_m_hz</th>\n",
       "    </tr>\n",
       "  </thead>\n",
       "  <tbody>\n",
       "    <tr>\n",
       "      <th>62</th>\n",
       "      <td>20801</td>\n",
       "      <td>Orange</td>\n",
       "      <td>00000002U8</td>\n",
       "      <td>NaN</td>\n",
       "      <td>0752290181</td>\n",
       "      <td>649636.0</td>\n",
       "      <td>6866576.0</td>\n",
       "      <td>48.89722</td>\n",
       "      <td>2.31305</td>\n",
       "      <td>Île-de-France</td>\n",
       "      <td>...</td>\n",
       "      <td>0</td>\n",
       "      <td>0</td>\n",
       "      <td>0</td>\n",
       "      <td>1</td>\n",
       "      <td>NaN</td>\n",
       "      <td>0</td>\n",
       "      <td>0</td>\n",
       "      <td>0</td>\n",
       "      <td>0</td>\n",
       "      <td>0</td>\n",
       "    </tr>\n",
       "    <tr>\n",
       "      <th>98</th>\n",
       "      <td>20801</td>\n",
       "      <td>Orange</td>\n",
       "      <td>00000003U7</td>\n",
       "      <td>NaN</td>\n",
       "      <td>0752290285</td>\n",
       "      <td>652147.0</td>\n",
       "      <td>6859914.0</td>\n",
       "      <td>48.83750</td>\n",
       "      <td>2.34805</td>\n",
       "      <td>Île-de-France</td>\n",
       "      <td>...</td>\n",
       "      <td>0</td>\n",
       "      <td>0</td>\n",
       "      <td>0</td>\n",
       "      <td>1</td>\n",
       "      <td>2021-11-29</td>\n",
       "      <td>0</td>\n",
       "      <td>0</td>\n",
       "      <td>0</td>\n",
       "      <td>0</td>\n",
       "      <td>1</td>\n",
       "    </tr>\n",
       "    <tr>\n",
       "      <th>99</th>\n",
       "      <td>20801</td>\n",
       "      <td>Orange</td>\n",
       "      <td>00000003U8</td>\n",
       "      <td>NaN</td>\n",
       "      <td>0752290316</td>\n",
       "      <td>650919.0</td>\n",
       "      <td>6866504.0</td>\n",
       "      <td>48.89667</td>\n",
       "      <td>2.33056</td>\n",
       "      <td>Île-de-France</td>\n",
       "      <td>...</td>\n",
       "      <td>0</td>\n",
       "      <td>0</td>\n",
       "      <td>0</td>\n",
       "      <td>1</td>\n",
       "      <td>NaN</td>\n",
       "      <td>0</td>\n",
       "      <td>0</td>\n",
       "      <td>0</td>\n",
       "      <td>0</td>\n",
       "      <td>0</td>\n",
       "    </tr>\n",
       "    <tr>\n",
       "      <th>138</th>\n",
       "      <td>20801</td>\n",
       "      <td>Orange</td>\n",
       "      <td>00000004U8</td>\n",
       "      <td>NaN</td>\n",
       "      <td>0752290341</td>\n",
       "      <td>651510.0</td>\n",
       "      <td>6866591.0</td>\n",
       "      <td>48.89750</td>\n",
       "      <td>2.33861</td>\n",
       "      <td>Île-de-France</td>\n",
       "      <td>...</td>\n",
       "      <td>0</td>\n",
       "      <td>0</td>\n",
       "      <td>0</td>\n",
       "      <td>1</td>\n",
       "      <td>2021-03-16</td>\n",
       "      <td>0</td>\n",
       "      <td>0</td>\n",
       "      <td>0</td>\n",
       "      <td>0</td>\n",
       "      <td>1</td>\n",
       "    </tr>\n",
       "    <tr>\n",
       "      <th>178</th>\n",
       "      <td>20801</td>\n",
       "      <td>Orange</td>\n",
       "      <td>00000005U7</td>\n",
       "      <td>NaN</td>\n",
       "      <td>0752290284</td>\n",
       "      <td>652922.0</td>\n",
       "      <td>6859939.0</td>\n",
       "      <td>48.83778</td>\n",
       "      <td>2.35861</td>\n",
       "      <td>Île-de-France</td>\n",
       "      <td>...</td>\n",
       "      <td>0</td>\n",
       "      <td>0</td>\n",
       "      <td>0</td>\n",
       "      <td>1</td>\n",
       "      <td>2021-04-30</td>\n",
       "      <td>0</td>\n",
       "      <td>0</td>\n",
       "      <td>0</td>\n",
       "      <td>0</td>\n",
       "      <td>1</td>\n",
       "    </tr>\n",
       "  </tbody>\n",
       "</table>\n",
       "<p>5 rows × 29 columns</p>\n",
       "</div>"
      ],
      "text/plain": [
       "     code_op  nom_op    num_site id_site_partage id_station_anfr         x  \\\n",
       "62     20801  Orange  00000002U8             NaN      0752290181  649636.0   \n",
       "98     20801  Orange  00000003U7             NaN      0752290285  652147.0   \n",
       "99     20801  Orange  00000003U8             NaN      0752290316  650919.0   \n",
       "138    20801  Orange  00000004U8             NaN      0752290341  651510.0   \n",
       "178    20801  Orange  00000005U7             NaN      0752290284  652922.0   \n",
       "\n",
       "             y  latitude  longitude        nom_reg  ... site_ZB site_DCC  \\\n",
       "62   6866576.0  48.89722    2.31305  Île-de-France  ...       0        0   \n",
       "98   6859914.0  48.83750    2.34805  Île-de-France  ...       0        0   \n",
       "99   6866504.0  48.89667    2.33056  Île-de-France  ...       0        0   \n",
       "138  6866591.0  48.89750    2.33861  Île-de-France  ...       0        0   \n",
       "178  6859939.0  48.83778    2.35861  Île-de-France  ...       0        0   \n",
       "\n",
       "    site_strategique site_capa_240mbps  date_ouverturecommerciale_5g  \\\n",
       "62                 0                 1                           NaN   \n",
       "98                 0                 1                    2021-11-29   \n",
       "99                 0                 1                           NaN   \n",
       "138                0                 1                    2021-03-16   \n",
       "178                0                 1                    2021-04-30   \n",
       "\n",
       "     site_5g_700_m_hz  site_5g_800_m_hz  site_5g_1800_m_hz  site_5g_2100_m_hz  \\\n",
       "62                  0                 0                  0                  0   \n",
       "98                  0                 0                  0                  0   \n",
       "99                  0                 0                  0                  0   \n",
       "138                 0                 0                  0                  0   \n",
       "178                 0                 0                  0                  0   \n",
       "\n",
       "     site_5g_3500_m_hz  \n",
       "62                   0  \n",
       "98                   1  \n",
       "99                   0  \n",
       "138                  1  \n",
       "178                  1  \n",
       "\n",
       "[5 rows x 29 columns]"
      ]
     },
     "execution_count": 9,
     "metadata": {},
     "output_type": "execute_result"
    }
   ],
   "source": [
    "bs_db_filtered.head()"
   ]
  },
  {
   "cell_type": "code",
   "execution_count": 10,
   "metadata": {},
   "outputs": [
    {
     "name": "stdout",
     "output_type": "stream",
     "text": [
      "Total 4G sites: 734\n",
      "Total 5G sites: 154\n"
     ]
    }
   ],
   "source": [
    "# Count the total number of 4G and 5G sites\n",
    "total_4g_sites = bs_db_filtered['site_4g'].sum()\n",
    "total_5g_sites = bs_db_filtered['site_5g'].sum()\n",
    "\n",
    "print(f\"Total 4G sites: {total_4g_sites}\")\n",
    "print(f\"Total 5G sites: {total_5g_sites}\")"
   ]
  },
  {
   "cell_type": "markdown",
   "metadata": {},
   "source": [
    "**It is more relevant to analyse 4G sites**"
   ]
  },
  {
   "cell_type": "code",
   "execution_count": 11,
   "metadata": {},
   "outputs": [],
   "source": [
    "SITE_TYPE = 'site_4g'"
   ]
  },
  {
   "cell_type": "code",
   "execution_count": 12,
   "metadata": {},
   "outputs": [],
   "source": [
    "#creating the db to be used in the simulator\n",
    "bs_db_filtered_4g = bs_db_filtered[bs_db_filtered[SITE_TYPE] > 0]\n",
    "# Select only the required columns\n",
    "bs_db_filtered_4g = bs_db_filtered_4g[['id_station_anfr', 'latitude', 'longitude']].reset_index(drop=True).rename(columns={'id_station_anfr': 'id'})"
   ]
  },
  {
   "cell_type": "code",
   "execution_count": 13,
   "metadata": {},
   "outputs": [
    {
     "data": {
      "text/html": [
       "<div>\n",
       "<style scoped>\n",
       "    .dataframe tbody tr th:only-of-type {\n",
       "        vertical-align: middle;\n",
       "    }\n",
       "\n",
       "    .dataframe tbody tr th {\n",
       "        vertical-align: top;\n",
       "    }\n",
       "\n",
       "    .dataframe thead th {\n",
       "        text-align: right;\n",
       "    }\n",
       "</style>\n",
       "<table border=\"1\" class=\"dataframe\">\n",
       "  <thead>\n",
       "    <tr style=\"text-align: right;\">\n",
       "      <th></th>\n",
       "      <th>id</th>\n",
       "      <th>latitude</th>\n",
       "      <th>longitude</th>\n",
       "    </tr>\n",
       "  </thead>\n",
       "  <tbody>\n",
       "    <tr>\n",
       "      <th>0</th>\n",
       "      <td>0752290181</td>\n",
       "      <td>48.89722</td>\n",
       "      <td>2.31305</td>\n",
       "    </tr>\n",
       "    <tr>\n",
       "      <th>1</th>\n",
       "      <td>0752290285</td>\n",
       "      <td>48.83750</td>\n",
       "      <td>2.34805</td>\n",
       "    </tr>\n",
       "    <tr>\n",
       "      <th>2</th>\n",
       "      <td>0752290316</td>\n",
       "      <td>48.89667</td>\n",
       "      <td>2.33056</td>\n",
       "    </tr>\n",
       "    <tr>\n",
       "      <th>3</th>\n",
       "      <td>0752290341</td>\n",
       "      <td>48.89750</td>\n",
       "      <td>2.33861</td>\n",
       "    </tr>\n",
       "    <tr>\n",
       "      <th>4</th>\n",
       "      <td>0752290284</td>\n",
       "      <td>48.83778</td>\n",
       "      <td>2.35861</td>\n",
       "    </tr>\n",
       "  </tbody>\n",
       "</table>\n",
       "</div>"
      ],
      "text/plain": [
       "           id  latitude  longitude\n",
       "0  0752290181  48.89722    2.31305\n",
       "1  0752290285  48.83750    2.34805\n",
       "2  0752290316  48.89667    2.33056\n",
       "3  0752290341  48.89750    2.33861\n",
       "4  0752290284  48.83778    2.35861"
      ]
     },
     "execution_count": 13,
     "metadata": {},
     "output_type": "execute_result"
    }
   ],
   "source": [
    "bs_db_filtered_4g.head()"
   ]
  },
  {
   "cell_type": "markdown",
   "metadata": {},
   "source": [
    "### **Grid Perimeter**  \n",
    "*from Geospatial coordinate to meters*\n",
    "\n",
    "longitude $\\rightarrow$ x (km)\n",
    "\n",
    "latitude $\\rightarrow$ y (km)"
   ]
  },
  {
   "cell_type": "code",
   "execution_count": 14,
   "metadata": {},
   "outputs": [],
   "source": [
    "min_lat = min(bs_db_filtered_4g['latitude'])\n",
    "max_lat = max(bs_db_filtered_4g['latitude'])\n",
    "\n",
    "min_lng = min(bs_db_filtered_4g['longitude'])\n",
    "max_lng = max(bs_db_filtered_4g['longitude'])"
   ]
  },
  {
   "cell_type": "markdown",
   "metadata": {},
   "source": [
    "**Grid's reference system**\n",
    "*based on BSs distributions over the area of interest*\n",
    "\n",
    "**origin $\\rightarrow$ lower-right most point**\n",
    "\n",
    "**max_coord $\\rightarrow$ upper-left most point**"
   ]
  },
  {
   "cell_type": "code",
   "execution_count": 15,
   "metadata": {},
   "outputs": [],
   "source": [
    "origin = (min_lat,min_lng) #of the grid's reference system\n",
    "max_coord = (max_lat,max_lng)"
   ]
  },
  {
   "cell_type": "code",
   "execution_count": 16,
   "metadata": {},
   "outputs": [
    {
     "name": "stdout",
     "output_type": "stream",
     "text": [
      "Grid origin geo-coordinate:  (48.81778, 2.23333)\n",
      "Grid max-point geo-coordinate:  (48.90139, 2.46501)\n"
     ]
    }
   ],
   "source": [
    "#print the grid extema\n",
    "print(\"Grid origin geo-coordinate: \", origin)\n",
    "print(\"Grid max-point geo-coordinate: \", max_coord)"
   ]
  },
  {
   "cell_type": "code",
   "execution_count": 17,
   "metadata": {},
   "outputs": [
    {
     "data": {
      "text/html": [
       "<div>\n",
       "<style scoped>\n",
       "    .dataframe tbody tr th:only-of-type {\n",
       "        vertical-align: middle;\n",
       "    }\n",
       "\n",
       "    .dataframe tbody tr th {\n",
       "        vertical-align: top;\n",
       "    }\n",
       "\n",
       "    .dataframe thead th {\n",
       "        text-align: right;\n",
       "    }\n",
       "</style>\n",
       "<table border=\"1\" class=\"dataframe\">\n",
       "  <thead>\n",
       "    <tr style=\"text-align: right;\">\n",
       "      <th></th>\n",
       "      <th>id</th>\n",
       "      <th>latitude</th>\n",
       "      <th>longitude</th>\n",
       "    </tr>\n",
       "  </thead>\n",
       "  <tbody>\n",
       "    <tr>\n",
       "      <th>0</th>\n",
       "      <td>0752290181</td>\n",
       "      <td>48.89722</td>\n",
       "      <td>2.31305</td>\n",
       "    </tr>\n",
       "    <tr>\n",
       "      <th>1</th>\n",
       "      <td>0752290285</td>\n",
       "      <td>48.83750</td>\n",
       "      <td>2.34805</td>\n",
       "    </tr>\n",
       "    <tr>\n",
       "      <th>2</th>\n",
       "      <td>0752290316</td>\n",
       "      <td>48.89667</td>\n",
       "      <td>2.33056</td>\n",
       "    </tr>\n",
       "    <tr>\n",
       "      <th>3</th>\n",
       "      <td>0752290341</td>\n",
       "      <td>48.89750</td>\n",
       "      <td>2.33861</td>\n",
       "    </tr>\n",
       "    <tr>\n",
       "      <th>4</th>\n",
       "      <td>0752290284</td>\n",
       "      <td>48.83778</td>\n",
       "      <td>2.35861</td>\n",
       "    </tr>\n",
       "  </tbody>\n",
       "</table>\n",
       "</div>"
      ],
      "text/plain": [
       "           id  latitude  longitude\n",
       "0  0752290181  48.89722    2.31305\n",
       "1  0752290285  48.83750    2.34805\n",
       "2  0752290316  48.89667    2.33056\n",
       "3  0752290341  48.89750    2.33861\n",
       "4  0752290284  48.83778    2.35861"
      ]
     },
     "execution_count": 17,
     "metadata": {},
     "output_type": "execute_result"
    }
   ],
   "source": [
    "bs_db_filtered_4g.head()"
   ]
  },
  {
   "cell_type": "code",
   "execution_count": 18,
   "metadata": {},
   "outputs": [],
   "source": [
    "#center on the min lat, min lng point as reference\n",
    "#scale the bs_db to cope with that\n",
    "#so the coordinate x and y will be in km as the distance from the origin\n",
    "D_METRIC = 'km'\n",
    "bs_db_filtered_4g[\"x\"] = [round(\n",
    "                                distance((min_lat, bs_db_filtered_4g.loc[i].longitude), origin).km, 3) \n",
    "                                                                                                    for i in bs_db_filtered_4g.index]\n",
    "\n",
    "\n",
    "bs_db_filtered_4g[\"y\"] = [round(\n",
    "                                distance((bs_db_filtered_4g.loc[i].latitude, min_lng), origin).km, 3) \n",
    "                                                                                                    for i in bs_db_filtered_4g.index]"
   ]
  },
  {
   "cell_type": "code",
   "execution_count": 20,
   "metadata": {},
   "outputs": [
    {
     "data": {
      "text/html": [
       "<div>\n",
       "<style scoped>\n",
       "    .dataframe tbody tr th:only-of-type {\n",
       "        vertical-align: middle;\n",
       "    }\n",
       "\n",
       "    .dataframe tbody tr th {\n",
       "        vertical-align: top;\n",
       "    }\n",
       "\n",
       "    .dataframe thead th {\n",
       "        text-align: right;\n",
       "    }\n",
       "</style>\n",
       "<table border=\"1\" class=\"dataframe\">\n",
       "  <thead>\n",
       "    <tr style=\"text-align: right;\">\n",
       "      <th></th>\n",
       "      <th>id</th>\n",
       "      <th>latitude</th>\n",
       "      <th>longitude</th>\n",
       "      <th>x</th>\n",
       "      <th>y</th>\n",
       "    </tr>\n",
       "  </thead>\n",
       "  <tbody>\n",
       "    <tr>\n",
       "      <th>0</th>\n",
       "      <td>0752290181</td>\n",
       "      <td>48.89722</td>\n",
       "      <td>2.31305</td>\n",
       "      <td>5.855</td>\n",
       "      <td>8.834</td>\n",
       "    </tr>\n",
       "    <tr>\n",
       "      <th>1</th>\n",
       "      <td>0752290285</td>\n",
       "      <td>48.83750</td>\n",
       "      <td>2.34805</td>\n",
       "      <td>8.425</td>\n",
       "      <td>2.193</td>\n",
       "    </tr>\n",
       "    <tr>\n",
       "      <th>2</th>\n",
       "      <td>0752290316</td>\n",
       "      <td>48.89667</td>\n",
       "      <td>2.33056</td>\n",
       "      <td>7.140</td>\n",
       "      <td>8.773</td>\n",
       "    </tr>\n",
       "    <tr>\n",
       "      <th>3</th>\n",
       "      <td>0752290341</td>\n",
       "      <td>48.89750</td>\n",
       "      <td>2.33861</td>\n",
       "      <td>7.732</td>\n",
       "      <td>8.865</td>\n",
       "    </tr>\n",
       "    <tr>\n",
       "      <th>4</th>\n",
       "      <td>0752290284</td>\n",
       "      <td>48.83778</td>\n",
       "      <td>2.35861</td>\n",
       "      <td>9.200</td>\n",
       "      <td>2.224</td>\n",
       "    </tr>\n",
       "    <tr>\n",
       "      <th>...</th>\n",
       "      <td>...</td>\n",
       "      <td>...</td>\n",
       "      <td>...</td>\n",
       "      <td>...</td>\n",
       "      <td>...</td>\n",
       "    </tr>\n",
       "    <tr>\n",
       "      <th>729</th>\n",
       "      <td>0752292366</td>\n",
       "      <td>48.85000</td>\n",
       "      <td>2.32473</td>\n",
       "      <td>6.712</td>\n",
       "      <td>3.583</td>\n",
       "    </tr>\n",
       "    <tr>\n",
       "      <th>730</th>\n",
       "      <td>0752292446</td>\n",
       "      <td>48.87556</td>\n",
       "      <td>2.30139</td>\n",
       "      <td>4.998</td>\n",
       "      <td>6.426</td>\n",
       "    </tr>\n",
       "    <tr>\n",
       "      <th>731</th>\n",
       "      <td>0752292700</td>\n",
       "      <td>48.84667</td>\n",
       "      <td>2.24888</td>\n",
       "      <td>1.142</td>\n",
       "      <td>3.213</td>\n",
       "    </tr>\n",
       "    <tr>\n",
       "      <th>732</th>\n",
       "      <td>0752292729</td>\n",
       "      <td>48.86194</td>\n",
       "      <td>2.30500</td>\n",
       "      <td>5.263</td>\n",
       "      <td>4.911</td>\n",
       "    </tr>\n",
       "    <tr>\n",
       "      <th>733</th>\n",
       "      <td>0752292067</td>\n",
       "      <td>48.86000</td>\n",
       "      <td>2.23333</td>\n",
       "      <td>0.000</td>\n",
       "      <td>4.695</td>\n",
       "    </tr>\n",
       "  </tbody>\n",
       "</table>\n",
       "<p>734 rows × 5 columns</p>\n",
       "</div>"
      ],
      "text/plain": [
       "             id  latitude  longitude      x      y\n",
       "0    0752290181  48.89722    2.31305  5.855  8.834\n",
       "1    0752290285  48.83750    2.34805  8.425  2.193\n",
       "2    0752290316  48.89667    2.33056  7.140  8.773\n",
       "3    0752290341  48.89750    2.33861  7.732  8.865\n",
       "4    0752290284  48.83778    2.35861  9.200  2.224\n",
       "..          ...       ...        ...    ...    ...\n",
       "729  0752292366  48.85000    2.32473  6.712  3.583\n",
       "730  0752292446  48.87556    2.30139  4.998  6.426\n",
       "731  0752292700  48.84667    2.24888  1.142  3.213\n",
       "732  0752292729  48.86194    2.30500  5.263  4.911\n",
       "733  0752292067  48.86000    2.23333  0.000  4.695\n",
       "\n",
       "[734 rows x 5 columns]"
      ]
     },
     "execution_count": 20,
     "metadata": {},
     "output_type": "execute_result"
    }
   ],
   "source": [
    "#visualization of the db\n",
    "bs_db_filtered_4g"
   ]
  },
  {
   "cell_type": "markdown",
   "metadata": {},
   "source": [
    "## Paris Simulation - Parameters"
   ]
  },
  {
   "cell_type": "markdown",
   "metadata": {},
   "source": [
    "**export the BSs positions, scaled in meters-based reference system**"
   ]
  },
  {
   "cell_type": "code",
   "execution_count": 21,
   "metadata": {},
   "outputs": [
    {
     "name": "stdout",
     "output_type": "stream",
     "text": [
      "Reference Point: (48.81778, 2.23333)\n"
     ]
    }
   ],
   "source": [
    "print(\"Reference Point:\", origin)"
   ]
  },
  {
   "cell_type": "code",
   "execution_count": 22,
   "metadata": {},
   "outputs": [
    {
     "data": {
      "text/html": [
       "<div>\n",
       "<style scoped>\n",
       "    .dataframe tbody tr th:only-of-type {\n",
       "        vertical-align: middle;\n",
       "    }\n",
       "\n",
       "    .dataframe tbody tr th {\n",
       "        vertical-align: top;\n",
       "    }\n",
       "\n",
       "    .dataframe thead th {\n",
       "        text-align: right;\n",
       "    }\n",
       "</style>\n",
       "<table border=\"1\" class=\"dataframe\">\n",
       "  <thead>\n",
       "    <tr style=\"text-align: right;\">\n",
       "      <th></th>\n",
       "      <th>id</th>\n",
       "      <th>x</th>\n",
       "      <th>y</th>\n",
       "    </tr>\n",
       "  </thead>\n",
       "  <tbody>\n",
       "    <tr>\n",
       "      <th>0</th>\n",
       "      <td>0752290181</td>\n",
       "      <td>5.855</td>\n",
       "      <td>8.834</td>\n",
       "    </tr>\n",
       "    <tr>\n",
       "      <th>1</th>\n",
       "      <td>0752290285</td>\n",
       "      <td>8.425</td>\n",
       "      <td>2.193</td>\n",
       "    </tr>\n",
       "    <tr>\n",
       "      <th>2</th>\n",
       "      <td>0752290316</td>\n",
       "      <td>7.140</td>\n",
       "      <td>8.773</td>\n",
       "    </tr>\n",
       "    <tr>\n",
       "      <th>3</th>\n",
       "      <td>0752290341</td>\n",
       "      <td>7.732</td>\n",
       "      <td>8.865</td>\n",
       "    </tr>\n",
       "    <tr>\n",
       "      <th>4</th>\n",
       "      <td>0752290284</td>\n",
       "      <td>9.200</td>\n",
       "      <td>2.224</td>\n",
       "    </tr>\n",
       "  </tbody>\n",
       "</table>\n",
       "</div>"
      ],
      "text/plain": [
       "           id      x      y\n",
       "0  0752290181  5.855  8.834\n",
       "1  0752290285  8.425  2.193\n",
       "2  0752290316  7.140  8.773\n",
       "3  0752290341  7.732  8.865\n",
       "4  0752290284  9.200  2.224"
      ]
     },
     "execution_count": 22,
     "metadata": {},
     "output_type": "execute_result"
    }
   ],
   "source": [
    "paris_grid = bs_db_filtered_4g[[\"id\",\"x\",\"y\"]]#x,y are in km #redundant cmd add for safety\n",
    "paris_grid.head()"
   ]
  },
  {
   "cell_type": "code",
   "execution_count": 23,
   "metadata": {},
   "outputs": [],
   "source": [
    "# Path to save the CSV file\n",
    "output_file_path = '../simulation_datasets/Filtered_4G_Sites_Orange_Paris.csv'\n",
    "\n",
    "paris_grid.to_csv(output_file_path, index=False)"
   ]
  },
  {
   "cell_type": "markdown",
   "metadata": {},
   "source": [
    "### Grid Dimension"
   ]
  },
  {
   "cell_type": "code",
   "execution_count": 24,
   "metadata": {},
   "outputs": [],
   "source": [
    "#reference points\n",
    "base_lft_pt = (min_lat,min_lng)\n",
    "base_rgt_pt = (min_lat,max_lng)\n",
    "\n",
    "height_lft_pt = (min_lat,min_lng)\n",
    "height_rgt_pt = (max_lat,min_lng)"
   ]
  },
  {
   "cell_type": "code",
   "execution_count": 25,
   "metadata": {},
   "outputs": [
    {
     "name": "stdout",
     "output_type": "stream",
     "text": [
      "diagonal:  19.377 km\n"
     ]
    }
   ],
   "source": [
    "#this it the diagonal in km\n",
    "diag = round(distance(origin, max_coord).km, 3)\n",
    "print(\"diagonal: \", diag, \"km\")"
   ]
  },
  {
   "cell_type": "code",
   "execution_count": 26,
   "metadata": {},
   "outputs": [
    {
     "name": "stdout",
     "output_type": "stream",
     "text": [
      "grid_base:  17.014 km\n"
     ]
    }
   ],
   "source": [
    "#so we can build the grid\n",
    "grid_base = round(distance(base_lft_pt, base_rgt_pt).km, 3)\n",
    "print(\"grid_base: \", grid_base, \"km\")\n",
    "#this it the base in m"
   ]
  },
  {
   "cell_type": "code",
   "execution_count": 27,
   "metadata": {},
   "outputs": [
    {
     "name": "stdout",
     "output_type": "stream",
     "text": [
      "grid_height:  9.298 km\n"
     ]
    }
   ],
   "source": [
    "#so we can build the grid\n",
    "grid_height = round(distance(height_lft_pt, height_rgt_pt).km, 3)\n",
    "print(\"grid_height: \", grid_height, \"km\")\n",
    "#this it the base in m"
   ]
  },
  {
   "cell_type": "code",
   "execution_count": 29,
   "metadata": {},
   "outputs": [],
   "source": [
    "#generate geospatial distances based file for the mobility model\n",
    "out = '../simulation_datasets/Paris_4G_Sites_Lat_Long.csv'\n",
    "\n",
    "bs_db_filtered_4g[[\"id\",\"latitude\",\"longitude\"]].to_csv(out, index=False)"
   ]
  },
  {
   "cell_type": "code",
   "execution_count": 30,
   "metadata": {},
   "outputs": [],
   "source": [
    "#full dataset\n",
    "\n",
    "out = '../simulation_datasets/4G_Site_km.csv'\n",
    "bs_db_filtered_4g.to_csv(out, index=False)"
   ]
  },
  {
   "cell_type": "code",
   "execution_count": 31,
   "metadata": {},
   "outputs": [],
   "source": [
    "#full dataset in m\n",
    "out = '../simulation_datasets/4G_Site_m.csv'\n",
    "bss = copy.deepcopy(bs_db_filtered_4g)\n",
    "converter_to_m = lambda v: v*10**3\n",
    "\n",
    "bss[['x','y']] = bss[['x','y']].map(converter_to_m)\n",
    "\n",
    "bss.to_csv(out, index=False)"
   ]
  },
  {
   "cell_type": "code",
   "execution_count": 34,
   "metadata": {},
   "outputs": [],
   "source": [
    "# Define the simulation environment Parameters\n",
    "content = f\"\"\"\n",
    "DISTANCE_METRIC = '{D_METRIC}'\n",
    "POWER_METRIC = 'dBm'\n",
    "\n",
    "earth_radius_km = 6371.0 #km\n",
    "\n",
    "DATA_SOURCE_LINK = '{DATA_SOURCE}'\n",
    "\n",
    "ORIGIN = {origin}\n",
    "\n",
    "NET_WIDTH = {grid_base} #'{D_METRIC}'\n",
    "\n",
    "NET_HEIGHT = {grid_height} #'{D_METRIC}'\n",
    "\n",
    "GEO_AREA = '{AREA_OF_INTEREST}'\n",
    "\n",
    "TILE_SIZE = 25/1000  #'{D_METRIC}'\n",
    "\n",
    "##Constants\n",
    "\n",
    "W = 20*(10**6) #(M)hz Channel Bandwidth\n",
    "\n",
    "N = -125 #dBm/Hz background noise\n",
    "\n",
    "L_ref = 120 #dBm/1km\n",
    "\n",
    "ALPHA = 3.76 #lin-scale\n",
    "\n",
    "BS_P_TX = 46 #dBm\n",
    "\n",
    "BS_MAX_RANGE = 0.47 #km\n",
    "\n",
    "EPS_BORDER = 0.2 #km\n",
    "\"\"\"\n",
    "content +=\"\"\"\n",
    "\n",
    "def simulation_params():\n",
    "    # Get all globals defined in this module\n",
    "    for name, val in globals().items():\n",
    "        if not name.startswith('__') and not callable(val):\n",
    "            print(f\"{name}: {val}\")\n",
    "\n",
    "\"\"\"\n",
    "\n",
    "filename = '../simulation_files/simulation_env.py'\n",
    "\n",
    "with open(filename, 'w') as file:\n",
    "    file.write(content)"
   ]
  }
 ],
 "metadata": {
  "kernelspec": {
   "display_name": "Python 3",
   "language": "python",
   "name": "python3"
  },
  "language_info": {
   "codemirror_mode": {
    "name": "ipython",
    "version": 3
   },
   "file_extension": ".py",
   "mimetype": "text/x-python",
   "name": "python",
   "nbconvert_exporter": "python",
   "pygments_lexer": "ipython3",
   "version": "3.10.12"
  }
 },
 "nbformat": 4,
 "nbformat_minor": 2
}
