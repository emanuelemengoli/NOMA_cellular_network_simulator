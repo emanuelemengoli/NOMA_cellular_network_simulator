{
 "cells": [
  {
   "cell_type": "markdown",
   "metadata": {},
   "source": [
    "# Simulation"
   ]
  },
  {
   "cell_type": "code",
   "execution_count": null,
   "metadata": {},
   "outputs": [],
   "source": [
    "## Run multiple comparison\n",
    "from simulation_files.main import *  \n",
    "from simulation_files.graphic_visualization import * \n",
    "from simulation_files.performance_visualization_utils import *"
   ]
  },
  {
   "cell_type": "markdown",
   "metadata": {},
   "source": [
    "## Set Simulation Parameters"
   ]
  },
  {
   "cell_type": "code",
   "execution_count": 2,
   "metadata": {},
   "outputs": [],
   "source": [
    "#All possible motion models\n",
    "motion_models = [\n",
    "    'biased_random_walk','random_walk','random_waypoint','levy_walk','truncated_levy_walk','hybrid_gmm', 'brownian_motion'\n",
    "    ]\n",
    "#Experiment parameters\n",
    "id = 0 #simulation id\n",
    "verbose=True\n",
    "ue_file_path = None #Alternatively provide CSV file w. real UEs traces. \n",
    "bs_filepath= \"simulation_datasets/Paris_BSs_subset_km2.csv\" #Provide BS CSV file. \n",
    "#Alternatively provide n_bss,hence BSs will be randomly generated.\n",
    "n_bss = None\n",
    "n_users= 870 #initial population approx. n_bss *72 (from bs_filepath ==> n_bss = 12)\n",
    "n_clusters = None #if not None, UEs will be clustered\n",
    "waypoints = None #if n_clusters > 0, it will compute the waypoints. If already computed, pass them as list of coordinates (x,y).\n",
    "\n",
    "n_rounds = 110 #select the number of optimization rounds (tot_sim_time = n_rounds*move_interval) or the simulation time\n",
    "sim_time = None #seconds\n",
    "motion_params = {'mobility_model': motion_models[0]} #See user.py or mobility_class.py for details on params needed\n",
    "randomPick = False #if True, it will perform random picking\n",
    "const_pick =False #if True, it will perform const picking strategy\n",
    "# If both are false, It will perform WDBO strategy\n",
    "#!!Note that Power choiche mode are mutally exclusive.\n",
    "density_thr=0.5 #UEs - BS minimal density w.r.t BSs inside border perimeter.\n",
    "alpha_fairness= 1\n",
    "given_metric = DISTANCE_METRIC #from simulation_env.py\n",
    "metric_to_use='m'\n",
    "\n",
    "lambda_ = (1/3) #Arrival rate\n",
    "mu = (1/10) #Departure rate\n",
    "epsilon = 0.3 #Pausing probability\n",
    "move_interval = 2 #s, displacement period\n",
    "optimizer_kwargs = None #WDBO args, if none Default are used ==> see base_station.py - set_optimizer\n",
    "\n",
    "ue_distribution_params = None #dict, to generate ues according to a specific distribution, see main.py\n",
    "ue_max_velocity= 0.011 #m/2s\n",
    "ue_min_velocity = 1.7*10**(-3) #m/2s\n",
    "dbscan_args = None #using default args\n",
    "ue_file_path = None "
   ]
  },
  {
   "cell_type": "markdown",
   "metadata": {},
   "source": [
    "## Run simulation"
   ]
  },
  {
   "cell_type": "code",
   "execution_count": null,
   "metadata": {},
   "outputs": [],
   "source": [
    "sim = SIMULATION(\n",
    "    id = id, verbose=verbose, alpha_fairness=alpha_fairness, metric_to_use=metric_to_use, given_metric=given_metric,\n",
    "    hot_spots = waypoints, lambda_=lambda_, mu=mu, epsilon=epsilon, move_interval=move_interval,\n",
    "    optimizer_kwargs=optimizer_kwargs\n",
    "    )\n",
    "\n",
    "sim.run(\n",
    "    sim_time=sim_time,n_users= n_users,n_clusters=n_clusters,n_bss = n_bss,min_rounds = n_rounds,\n",
    "    motion_params=motion_params,bs_filepath= bs_filepath, ue_file_path=ue_file_path,\n",
    "    ue_distribution_params=ue_distribution_params,ue_max_velocity=ue_max_velocity,\n",
    "    ue_min_velocity=ue_min_velocity,dbscan_args=dbscan_args,\n",
    "    randomPick = randomPick,const_pick =const_pick, density_thr=density_thr,\n",
    "            )"
   ]
  },
  {
   "cell_type": "markdown",
   "metadata": {},
   "source": [
    "## Performance plots"
   ]
  },
  {
   "cell_type": "code",
   "execution_count": null,
   "metadata": {},
   "outputs": [],
   "source": [
    "#choose the mobility model\n",
    "m_model = 'biased_random_walk'\n",
    "#select the parent folders\n",
    "fd = 'example' \n",
    "\n",
    "random_pick_folder = f'output/results/performance_logs/{fd}/obj_rndm/{m_model}'\n",
    "wdbo_folder = f'output/results/performance_logs/{fd}/obj_wdbo/{m_model}'\n",
    "const_folder = f'output/results/performance_logs/{fd}/obj_const/{m_model}'\n",
    "\n",
    "compare_metrics(\n",
    "    random_pick_folder = random_pick_folder,wdbo_folder=wdbo_folder,const_folder=const_folder,\n",
    "    ix = m_model, metric = 'obj', alpha_fair = 1, prime=False)\n",
    "\n",
    "random_pick_folder = f'output/results/performance_logs/{fd}/sinr_rndm/{m_model}'\n",
    "wdbo_folder = f'output/results/performance_logs/{fd}/sinr_wdbo/{m_model}'\n",
    "const_folder = f'output/results/performance_logs/{fd}/sinr_const/{m_model}'\n",
    "compare_metrics(\n",
    "    random_pick_folder = random_pick_folder,wdbo_folder=wdbo_folder,const_folder=const_folder,\n",
    "    ix = m_model, metric = 'sinr', alpha_fair = 1, prime=False)\n",
    "\n",
    "safety_check_sinr_cdf(folder_path = random_pick_folder, ix=m_model, t1='rndm',file_type='*.csv')\n",
    "safety_check_sinr_cdf(folder_path = wdbo_folder, ix=m_model, t1='wdbo',file_type='*.csv')\n",
    "safety_check_sinr_cdf(folder_path = const_folder, ix=m_model, t1='const',file_type='*.csv')"
   ]
  },
  {
   "cell_type": "markdown",
   "metadata": {},
   "source": [
    "## Network Visualization"
   ]
  },
  {
   "cell_type": "code",
   "execution_count": 5,
   "metadata": {},
   "outputs": [],
   "source": [
    "#choose the motion model\n",
    "m = 'biased_random_walk'\n",
    "#select the BS dataset\n",
    "bs_fp = 'simulation_datasets/Paris_BSs_subset_m2.csv'\n",
    "#select the number of user to visualize\n",
    "num_ues_ = 2\n",
    "#select the id of the ues_traces file willing to show \n",
    "# e.g. the one related to 'metrics_logs_sim100020_wdbo_biased_random_walk'\n",
    "id = 0\n",
    "#set the respective model\n",
    "opt_model = 'wdbo' #const or rndm"
   ]
  },
  {
   "cell_type": "code",
   "execution_count": null,
   "metadata": {},
   "outputs": [],
   "source": [
    "render_it(\n",
    "    motion_model = m,optimization_model = opt_model, id = id, bs_file=bs_fp, num_ues_samples = num_ues_)"
   ]
  },
  {
   "cell_type": "markdown",
   "metadata": {},
   "source": [
    "## WDBO's Hyper-parameters visualization"
   ]
  },
  {
   "cell_type": "code",
   "execution_count": null,
   "metadata": {},
   "outputs": [],
   "source": [
    "#Single motion model visualization\n",
    "m_model = 'hybrid_gmm'\n",
    "file_pattern = f'output/optimizers_logs/example/{m_model}/*.json'\n",
    "aggregated_df, num_replicates = load_and_aggregate_data(file_pattern=file_pattern)\n",
    "\n",
    "plot_single_model_metrics(df = aggregated_df, m_model = m_model,num_replicates= num_replicates)"
   ]
  },
  {
   "cell_type": "code",
   "execution_count": null,
   "metadata": {},
   "outputs": [],
   "source": [
    "#Multiple motion models aggregation\n",
    "motion_models = ['biased_random_walk', 'hybrid_gmm', 'random_waypoint']\n",
    "metrics_to_plot = ['dataset Size', 'spatial lengthscale', 'temporal lengthscale']\n",
    "rex_folder_path = f'output/optimizers_logs/example'\n",
    "plot_aggregated_metrics_across_motion_models(models = motion_models, metrics = metrics_to_plot, rex_folder_path = rex_folder_path)"
   ]
  },
  {
   "cell_type": "markdown",
   "metadata": {},
   "source": [
    "-----------------------------------------------------------------------------------------------"
   ]
  }
 ],
 "metadata": {
  "kernelspec": {
   "display_name": "Python 3",
   "language": "python",
   "name": "python3"
  },
  "language_info": {
   "codemirror_mode": {
    "name": "ipython",
    "version": 3
   },
   "file_extension": ".py",
   "mimetype": "text/x-python",
   "name": "python",
   "nbconvert_exporter": "python",
   "pygments_lexer": "ipython3",
   "version": "3.10.12"
  }
 },
 "nbformat": 4,
 "nbformat_minor": 2
}
